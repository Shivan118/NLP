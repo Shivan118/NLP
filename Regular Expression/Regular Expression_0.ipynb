{
 "cells": [
  {
   "cell_type": "code",
   "execution_count": 1,
   "metadata": {},
   "outputs": [
    {
     "name": "stdout",
     "output_type": "stream",
     "text": [
      "<re.Match object; span=(0, 5), match='tiger'>\n"
     ]
    }
   ],
   "source": [
    "import re\n",
    "string = \"tiger is the national animal of india \"\n",
    "pattern = \"tiger\"\n",
    "pattern2 = \"lion\"\n",
    "\n",
    "# re.match function work on the only first function of the string\n",
    "me = re.match(pattern, string)  \n",
    "print(me)"
   ]
  },
  {
   "cell_type": "code",
   "execution_count": 2,
   "metadata": {},
   "outputs": [
    {
     "name": "stdout",
     "output_type": "stream",
     "text": [
      "None\n"
     ]
    }
   ],
   "source": [
    "string = \"tiger is the national animal of india \"\n",
    "pattern = \"tiger\"\n",
    "pattern2 = \"lion\"  # This pattern is not in the string\n",
    "\n",
    "me = re.match(pattern2, string)\n",
    "print(me)"
   ]
  },
  {
   "cell_type": "code",
   "execution_count": 3,
   "metadata": {},
   "outputs": [
    {
     "name": "stdout",
     "output_type": "stream",
     "text": [
      "<re.Match object; span=(13, 21), match='national'>\n"
     ]
    }
   ],
   "source": [
    "string = \"tiger is the national animal of india \"\n",
    "pattern = \"national\"\n",
    "\n",
    "# re.search function works on the searc any where of the string.\n",
    "me = re.search(pattern, string)\n",
    "print(me)"
   ]
  },
  {
   "cell_type": "code",
   "execution_count": 4,
   "metadata": {},
   "outputs": [
    {
     "name": "stdout",
     "output_type": "stream",
     "text": [
      "national\n"
     ]
    }
   ],
   "source": [
    "string = \"tiger is the national animal of india \"\n",
    "pattern = \"national\"\n",
    "print(me.group(0))"
   ]
  },
  {
   "cell_type": "code",
   "execution_count": 5,
   "metadata": {},
   "outputs": [
    {
     "name": "stdout",
     "output_type": "stream",
     "text": [
      "['national', 'national']\n"
     ]
    }
   ],
   "source": [
    "string = \"tiger is the national animal of india tiger is the national animal of india\"\n",
    "pattern = \"national\"\n",
    "\n",
    "me = re.findall(pattern, string)\n",
    "print(me)"
   ]
  },
  {
   "cell_type": "code",
   "execution_count": 6,
   "metadata": {},
   "outputs": [
    {
     "name": "stdout",
     "output_type": "stream",
     "text": [
      "13\n",
      "51\n"
     ]
    }
   ],
   "source": [
    "me = re.finditer(pattern, string)   # ITER function returns  the indexes of the function present in the string.\n",
    "for m in me:\n",
    "    print(m.start())"
   ]
  },
  {
   "cell_type": "code",
   "execution_count": 7,
   "metadata": {},
   "outputs": [
    {
     "name": "stdout",
     "output_type": "stream",
     "text": [
      "['12-09-1992', '15-12-1999']\n"
     ]
    }
   ],
   "source": [
    "string = \"Ron was born on 12-09-1992 and he was addmited to school 15-12-1999\"\n",
    "pattern = \"\\d{2}-\\d{2}-\\d{4}\"\n",
    "me = re.findall(pattern, string)\n",
    "print(me)"
   ]
  },
  {
   "cell_type": "code",
   "execution_count": 8,
   "metadata": {},
   "outputs": [
    {
     "name": "stdout",
     "output_type": "stream",
     "text": [
      "Ron was born on Monday and he was addmited to school Monday\n"
     ]
    }
   ],
   "source": [
    "print(re.sub(pattern, \"Monday\", string))"
   ]
  },
  {
   "cell_type": "markdown",
   "metadata": {},
   "source": [
    "# Good Job!"
   ]
  }
 ],
 "metadata": {
  "kernelspec": {
   "display_name": "Python 3",
   "language": "python",
   "name": "python3"
  },
  "language_info": {
   "codemirror_mode": {
    "name": "ipython",
    "version": 3
   },
   "file_extension": ".py",
   "mimetype": "text/x-python",
   "name": "python",
   "nbconvert_exporter": "python",
   "pygments_lexer": "ipython3",
   "version": "3.7.4"
  }
 },
 "nbformat": 4,
 "nbformat_minor": 2
}
