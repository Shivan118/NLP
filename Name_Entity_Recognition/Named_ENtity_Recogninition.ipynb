{
  "nbformat": 4,
  "nbformat_minor": 0,
  "metadata": {
    "colab": {
      "name": "Named_ENtity_Recogninition.ipynb",
      "provenance": []
    },
    "kernelspec": {
      "name": "python3",
      "display_name": "Python 3"
    }
  },
  "cells": [
    {
      "cell_type": "code",
      "metadata": {
        "id": "m1hyPXWQL8Fh",
        "colab_type": "code",
        "colab": {}
      },
      "source": [
        "import nltk\n",
        "# nltk.download('all')"
      ],
      "execution_count": 0,
      "outputs": []
    },
    {
      "cell_type": "code",
      "metadata": {
        "id": "ckpuIOvGLWsG",
        "colab_type": "code",
        "colab": {
          "base_uri": "https://localhost:8080/",
          "height": 34
        },
        "outputId": "bb8441bb-4ef8-4abe-8933-2a6ceb27cf7a"
      },
      "source": [
        "text = \"Shivan will visit IBM Corp. office in London\"\n",
        "tokens = nltk.word_tokenize(text)\n",
        "tokens"
      ],
      "execution_count": 9,
      "outputs": [
        {
          "output_type": "execute_result",
          "data": {
            "text/plain": [
              "['Shivan', 'will', 'visit', 'IBM', 'Corp.', 'office', 'in', 'London']"
            ]
          },
          "metadata": {
            "tags": []
          },
          "execution_count": 9
        }
      ]
    },
    {
      "cell_type": "code",
      "metadata": {
        "id": "qDpO_JRfj5oy",
        "colab_type": "code",
        "outputId": "d1440111-5958-4058-db8b-f05bc312cace",
        "colab": {
          "base_uri": "https://localhost:8080/",
          "height": 153
        }
      },
      "source": [
        "pos = nltk.pos_tag(tokens)\n",
        "pos"
      ],
      "execution_count": 12,
      "outputs": [
        {
          "output_type": "execute_result",
          "data": {
            "text/plain": [
              "[('Shivan', 'NNP'),\n",
              " ('will', 'MD'),\n",
              " ('visit', 'VB'),\n",
              " ('IBM', 'NNP'),\n",
              " ('Corp.', 'NNP'),\n",
              " ('office', 'NN'),\n",
              " ('in', 'IN'),\n",
              " ('London', 'NNP')]"
            ]
          },
          "metadata": {
            "tags": []
          },
          "execution_count": 12
        }
      ]
    },
    {
      "cell_type": "code",
      "metadata": {
        "id": "Awg5Om4qkFz5",
        "colab_type": "code",
        "colab": {
          "base_uri": "https://localhost:8080/",
          "height": 136
        },
        "outputId": "e7da2864-0f2f-4470-a260-4c4d7f2776bf"
      },
      "source": [
        "chunks = nltk.ne_chunk(pos)\n",
        "for chunk in chunks:\n",
        "  print(chunk)"
      ],
      "execution_count": 15,
      "outputs": [
        {
          "output_type": "stream",
          "text": [
            "(PERSON Shivan/NNP)\n",
            "('will', 'MD')\n",
            "('visit', 'VB')\n",
            "(ORGANIZATION IBM/NNP Corp./NNP)\n",
            "('office', 'NN')\n",
            "('in', 'IN')\n",
            "(GPE London/NNP)\n"
          ],
          "name": "stdout"
        }
      ]
    },
    {
      "cell_type": "code",
      "metadata": {
        "id": "Onb1cNp1MpDZ",
        "colab_type": "code",
        "colab": {
          "base_uri": "https://localhost:8080/",
          "height": 68
        },
        "outputId": "fa45918c-f63a-426e-db12-7617f3fef61d"
      },
      "source": [
        "for chunk in chunks:\n",
        "  if hasattr(chunk, \"label\"):\n",
        "    print(chunk)"
      ],
      "execution_count": 17,
      "outputs": [
        {
          "output_type": "stream",
          "text": [
            "(PERSON Shivan/NNP)\n",
            "(ORGANIZATION IBM/NNP Corp./NNP)\n",
            "(GPE London/NNP)\n"
          ],
          "name": "stdout"
        }
      ]
    },
    {
      "cell_type": "markdown",
      "metadata": {
        "id": "1CpGg849N88z",
        "colab_type": "text"
      },
      "source": [
        "**Great Job Shivan!**"
      ]
    }
  ]
}